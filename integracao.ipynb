{
 "cells": [
  {
   "cell_type": "code",
   "execution_count": 1,
   "id": "adc8f35f",
   "metadata": {},
   "outputs": [],
   "source": [
    "import requests\n",
    "from datetime import datetime\n",
    "import pandas as pd\n",
    "import json\n",
    "import os\n",
    "import ipywidgets as w\n",
    "import pyautogui as pag #controle da tela\n",
    "import pyperclip as pc #copiar e colar\n",
    "import time\n",
    "import webbrowser"
   ]
  },
  {
   "cell_type": "code",
   "execution_count": 19,
   "id": "16bf5388",
   "metadata": {},
   "outputs": [],
   "source": [
    "###Cofre Advance - busca os depositos###"
   ]
  },
  {
   "cell_type": "code",
   "execution_count": 20,
   "id": "e3c61ee6",
   "metadata": {},
   "outputs": [],
   "source": [
    "def Cofre_Depositos(Dt_Caixa,Tp_Deposito):\n",
    "    mensagem = \"\"\n",
    "    Dt_inicio = str(Dt_Caixa) + 'T00:00:00'\n",
    "    Dt_fim = str(Dt_Caixa) + 'T23:10:00'\n",
    "    url = \"https://api.cofreadvance.com.br/ObterDepositos\"\n",
    "    user_data=   {\n",
    "        \"keyId\": \"d110b6db9ac55581008b9b11b148c341\",\n",
    "        \"TerminalNumber\":\"ADV2717\",\n",
    "        \"dataini\" : Dt_inicio,\n",
    "        \"datafim\" : Dt_fim}\n",
    "    response = requests.post(url=url,json=user_data)\n",
    "    if response.status_code < 200 and response.status_code > 299:\n",
    "        #erro\n",
    "        mensagem = 'Status code: '+ response.status_code +' Reason: ' + response.reason + ' Texto: '+ response.text\n",
    "        return []\n",
    "       # os._exit(0)\n",
    "    depositos = json.loads(response.text)\n",
    "    if len(depositos)==0:\n",
    "        return []\n",
    "        #os._exit(0)\n",
    "    else:\n",
    "        pd_depositos = pd.DataFrame(depositos)\n",
    "    #formata os campos\n",
    "    pd_depositos['QtTwoHundredBills'] =pd_depositos['QtTwoHundredBills'].astype(int)\n",
    "    pd_depositos['QtHundredBills'] =pd_depositos['QtHundredBills'].astype(int)\n",
    "    pd_depositos['QtFiftyBills'] =pd_depositos['QtFiftyBills'].astype(int)\n",
    "    pd_depositos['QtTwentyBills'] =pd_depositos['QtTwentyBills'].astype(int)\n",
    "    pd_depositos['QtTenBills'] =pd_depositos['QtTenBills'].astype(int)\n",
    "    pd_depositos['Amount'] =pd_depositos['Amount'].astype(int)\n",
    "    ##Cofre Advance - busca a coleta do dia\n",
    "    url = \"https://api.cofreadvance.com.br/ObterColetas\"\n",
    "    user_data={\n",
    "        \"keyId\": \"d110b6db9ac55581008b9b11b148c341\",\n",
    "        \"TerminalNumber\":\"ADV2717\",\n",
    "        \"dataini\" : Dt_inicio,\n",
    "        \"datafim\" : Dt_fim}\n",
    "    response = requests.post(url=url,json=user_data) \n",
    "    \n",
    "    if response.status_code >= 200 and response.status_code <= 299:\n",
    "        #sucesso\n",
    "        Coleta = json.loads(response.text)\n",
    "        if len(Coleta)==0:\n",
    "            mensagem ='Não há Coleta'\n",
    "            if Tp_Deposito=='Coleta':  return []\n",
    "        else:\n",
    "            pd_Coleta = pd.DataFrame(Coleta)\n",
    "            Dt_Coleta = pd_Coleta.loc[0,'CollectDate']\n",
    "\n",
    "    else:\n",
    "        mensagem = 'Status code: '+ response.status_code +' Reason: ' + response.reason + ' Texto: ' + response.text\n",
    "        return []\n",
    "       # os._exit(0)\n",
    "  \n",
    "    ## Filtra os depositos para coleta ou fechament\n",
    "    if len(Coleta)!=0:\n",
    "        if Tp_Deposito =='Fechamento': \n",
    "            pd_filtra_cf = pd_depositos['DepositDate'] > Dt_Coleta\n",
    "        else: \n",
    "            pd_filtra_cf = pd_depositos['DepositDate'] <= Dt_Coleta\n",
    "        pd_deposito_cf = pd_depositos[pd_filtra_cf]\n",
    "    else: \n",
    "        pd_deposito_cf= pd_depositos    \n",
    "  \n",
    "    # display(pd_deposito_cf)\n",
    "    #display(pd_depositos)\n",
    "    dep_hoje_carro_forte= pd_deposito_cf.groupby(['UserReg']).agg(\n",
    "        {'QtTwoHundredBills':'sum', \n",
    "         'QtHundredBills':'sum', \n",
    "         'QtFiftyBills':'sum', \n",
    "         'QtTwentyBills':'sum', \n",
    "         'QtTenBills':'sum', \n",
    "         'Amount':'sum'})\n",
    "    return dep_hoje_carro_forte"
   ]
  },
  {
   "cell_type": "code",
   "execution_count": 21,
   "id": "dd97d2d0",
   "metadata": {},
   "outputs": [],
   "source": [
    "#Pega operadora no Gerlot\n",
    "def pegar_operadora(x,y):\n",
    "    pag.doubleClick(x, y)\n",
    "    pag.hotkey('ctrl','c')\n",
    "    return pc.paste()"
   ]
  },
  {
   "cell_type": "code",
   "execution_count": 22,
   "id": "2496c874",
   "metadata": {},
   "outputs": [
    {
     "name": "stdout",
     "output_type": "stream",
     "text": [
      "Integração do Advance e Gerlot\n"
     ]
    }
   ],
   "source": [
    "print('Integração do Advance e Gerlot')"
   ]
  },
  {
   "cell_type": "code",
   "execution_count": 23,
   "id": "941ca4a8",
   "metadata": {},
   "outputs": [],
   "source": [
    "wDt_Caixa =w.DatePicker(description ='Data do Caixa',disabled=False)\n",
    "wTp_Deposito =w.RadioButtons(options=['Coleta', 'Fechamento'], value=None,description='Tipo:',disabled=False)\n",
    "bt_OK = w.Button(description='Importar')\n",
    "bt_Output = w.Output()"
   ]
  },
  {
   "cell_type": "code",
   "execution_count": 24,
   "id": "b6e38898",
   "metadata": {},
   "outputs": [
    {
     "data": {
      "application/vnd.jupyter.widget-view+json": {
       "model_id": "c5ded228f5c0482f84ec9610d0f810d5",
       "version_major": 2,
       "version_minor": 0
      },
      "text/plain": [
       "DatePicker(value=None, description='Data do Caixa')"
      ]
     },
     "metadata": {},
     "output_type": "display_data"
    },
    {
     "data": {
      "application/vnd.jupyter.widget-view+json": {
       "model_id": "da560ad2238d40d0a65eae0649014966",
       "version_major": 2,
       "version_minor": 0
      },
      "text/plain": [
       "RadioButtons(description='Tipo:', options=('Coleta', 'Fechamento'), value=None)"
      ]
     },
     "metadata": {},
     "output_type": "display_data"
    }
   ],
   "source": [
    "display(wDt_Caixa,wTp_Deposito)"
   ]
  },
  {
   "cell_type": "code",
   "execution_count": 7,
   "id": "6e696824",
   "metadata": {},
   "outputs": [],
   "source": [
    "def on_button_clicked(b):\n",
    "    with bt_Output:\n",
    "        if (wDt_Caixa.value =='None') or (wTp_Deposito.value =='None'):\n",
    "            print('Preencha as informações acima!')\n",
    "        else:\n",
    "            lancamento = Cofre_Depositos(wDt_Caixa.value,wTp_Deposito.value)\n",
    "            if len(lancamento)==0:\n",
    "                print('Não a deposito ou algum erro ocorreu')\n",
    "             #   os._exit(0)\n",
    "            else:\n",
    "                display(lancamento)\n",
    "                print('Aguarde...')\n",
    "                #abre o Gerlot\n",
    "                url = 'https://www.gerlot.com.br/login?codigo_loterico=21001250-1'\n",
    "                webbrowser.register('chrome',\n",
    "                    None,\n",
    "                    webbrowser.BackgroundBrowser(\"C://Program Files//Google//Chrome//Application//chrome.exe\"))\n",
    "                webbrowser.get('chrome').open(url)\n",
    "                ##logar\n",
    "                time.sleep(5)\n",
    "                pag.click(558,265)\n",
    "                pc.copy('adriana')  #usuario\n",
    "                pag.hotkey('ctrl','v')\n",
    "                pag.press('tab')\n",
    "                pc.copy('123456')  #senha\n",
    "                pag.hotkey('ctrl','v')\n",
    "                pag.press('tab')\n",
    "                pag.press('enter')\n",
    "                #Entrar nos Caixas Abertos\n",
    "                time.sleep(5)\n",
    "                pag.doubleClick(548,230)\n",
    "                pag.hotkey('ctrl','c')\n",
    "                caixa_abertos = pc.paste()\n",
    "                caixa_abertos = int(caixa_abertos)\n",
    "                pag.click(x=574, y=250)\n",
    "                i=1\n",
    "                while i <= caixa_abertos:\n",
    "                    time.sleep(5)\n",
    "                    if i==1:           ##Point(x=306, y=271) caixa  1\n",
    "                        caixa1 =pegar_operadora(306,271)\n",
    "                        pd_filtro = lancamento.filter(like=caixa1, axis=0)\n",
    "                        if (pd_filtro['QtTwoHundredBills'].count()!=0):\n",
    "                            pag.click(x=1288, y=276)\n",
    "                            pag.click(x=1219, y=317)\n",
    "                            time.sleep(5)\n",
    "                            EfetivaDeposito(pd_filtro,caixa1)  \n",
    "                        time.sleep(10)\n",
    "                        \n",
    "                    elif i==2:         ##Point(x=308, y=319) caixa 2\n",
    "                        caixa2 =pegar_operadora(309,386)\n",
    "                        pd_filtro = lancamento.filter(like=caixa2, axis=0)\n",
    "                        \n",
    "                        if (pd_filtro['QtHundredBills'].count()!=0):\n",
    "                            pag.click(x=1287, y=393)\n",
    "                            pag.click(x=1233, y=430)\n",
    "                            time.sleep(5)\n",
    "                            EfetivaDeposito(pd_filtro,caixa2)     \n",
    "                        time.sleep(10)\n",
    "                    elif i==3:         ##Point(x=312, y=365) caixa 3\n",
    "                        caixa3 =pegar_operadora(312,432)\n",
    "                        pd_filtro = lancamento.filter(like=caixa3, axis=0)\n",
    "                        if (pd_filtro['QtHundredBills'].count()!=0): \n",
    "                            pag.click(x=1279, y=444)\n",
    "                            pag.click(x=1243, y=479)\n",
    "                            time.sleep(5)\n",
    "                            EfetivaDeposito(pd_filtro,caixa3)     \n",
    "                        time.sleep(10)\n",
    "                    elif i==4:         ##Point(x=311, y=417) caixa 4\n",
    "                        caixa4 =pegar_operadora(311,484)\n",
    "                        pd_filtro = lancamento.filter(like=caixa4, axis=0)\n",
    "                        if (pd_filtro['QtHundredBills'].count()!=0): \n",
    "                            pag.click(x=1278, y=493)\n",
    "                            pag.click(x=1272, y=531)\n",
    "                            time.sleep(5)                   \n",
    "                            EfetivaDeposito(pd_filtro,caixa4)     \n",
    "                        time.sleep(10)\n",
    "\n",
    "                    elif i==5:         ##Point(x=308, y=470) caixa 5\n",
    "                        caixa5 =pegar_operadora(310,533)\n",
    "                        pd_filtro = lancamento.filter(like=caixa5, axis=0)\n",
    "                        if (pd_filtro['QtHundredBills'].count()!=0): \n",
    "                            pag.click(x=1278, y=546)\n",
    "                            pag.click(x=1245, y=580)\n",
    "                            time.sleep(5)\n",
    "                            EfetivaDeposito(pd_filtro,caixa5)     \n",
    "                        time.sleep(10)\n",
    "                    \n",
    "                    i += 1\n",
    "            pag.hotkey('ctrl', 'w')\n",
    "            print('Finalizado')\n",
    "bt_OK.on_click(on_button_clicked)"
   ]
  },
  {
   "cell_type": "code",
   "execution_count": 26,
   "id": "bf51cb4c",
   "metadata": {},
   "outputs": [
    {
     "data": {
      "application/vnd.jupyter.widget-view+json": {
       "model_id": "5027d17c75a14a22a146d6f3917f6ccf",
       "version_major": 2,
       "version_minor": 0
      },
      "text/plain": [
       "Button(description='Importar', style=ButtonStyle())"
      ]
     },
     "metadata": {},
     "output_type": "display_data"
    },
    {
     "data": {
      "application/vnd.jupyter.widget-view+json": {
       "model_id": "9e7714ca12834154b7b50958fc4ac1a1",
       "version_major": 2,
       "version_minor": 0
      },
      "text/plain": [
       "Output()"
      ]
     },
     "metadata": {},
     "output_type": "display_data"
    }
   ],
   "source": [
    "display(bt_OK, bt_Output)"
   ]
  },
  {
   "cell_type": "code",
   "execution_count": 3,
   "id": "b4594a25",
   "metadata": {},
   "outputs": [],
   "source": [
    "#preenche o deposito no Gerlot\n",
    "def EfetivaDeposito(lanc, Caixa):\n",
    "    pag.click(x=589, y=230)   #lacre\n",
    "    time.sleep(5)\n",
    "    if wTp_Deposito.value =='Fechamento': \n",
    "        pc.copy('17')\n",
    "    else:\n",
    "        pc.copy('13')  \n",
    "    pag.hotkey('ctrl','v')\n",
    "    pd_notas = pd.DataFrame(lanc)\n",
    "    time.sleep(3)\n",
    "    pag.click(x=547, y=321)   #200\n",
    "    pc.copy(int(pd_notas['QtTwoHundredBills']))\n",
    "    time.sleep(3)\n",
    "    pag.hotkey('ctrl','v')\n",
    "    pag.click(x=632, y=347)   #100 \n",
    "    \n",
    "    pc.copy(int(pd_notas['QtHundredBills']))\n",
    "    time.sleep(3)\n",
    "    pag.hotkey('ctrl','v')\n",
    "    pag.click(x=677, y=382)   #50\n",
    "    pc.copy(int(pd_notas['QtFiftyBills']))\n",
    "    time.sleep(3)\n",
    "    pag.hotkey('ctrl','v')\n",
    "    pag.click(x=640, y=409)   #20\n",
    "    pc.copy(int(pd_notas['QtTwentyBills']))\n",
    "    time.sleep(3)\n",
    "    pag.hotkey('ctrl','v')\n",
    "    pag.click(x=672, y=444)   #10\n",
    "    pc.copy(int(pd_notas['QtTenBills']))\n",
    "    pag.hotkey('ctrl','v')\n",
    "    time.sleep(3)\n",
    "    pag.click(x=719, y=599)\n"
   ]
  }
 ],
 "metadata": {
  "kernelspec": {
   "display_name": "Python 3 (ipykernel)",
   "language": "python",
   "name": "python3"
  },
  "language_info": {
   "codemirror_mode": {
    "name": "ipython",
    "version": 3
   },
   "file_extension": ".py",
   "mimetype": "text/x-python",
   "name": "python",
   "nbconvert_exporter": "python",
   "pygments_lexer": "ipython3",
   "version": "3.9.12"
  },
  "widgets": {
   "application/vnd.jupyter.widget-state+json": {
    "state": {
     "0598d1a15c5a46e492ddeb2259829134": {
      "model_module": "@jupyter-widgets/controls",
      "model_module_version": "1.5.0",
      "model_name": "DescriptionStyleModel",
      "state": {
       "description_width": ""
      }
     },
     "07797b064ff54c6ea8a2a159d3fa5ad4": {
      "model_module": "@jupyter-widgets/controls",
      "model_module_version": "1.5.0",
      "model_name": "DescriptionStyleModel",
      "state": {
       "description_width": ""
      }
     },
     "07f1d646d6f54acbbe5abc626093dd4e": {
      "model_module": "@jupyter-widgets/controls",
      "model_module_version": "1.5.0",
      "model_name": "DatePickerModel",
      "state": {
       "description": "Data do Caixa",
       "disabled": false,
       "layout": "IPY_MODEL_8bc3fba2a2864c1d8754eb33f2b75ed5",
       "style": "IPY_MODEL_07797b064ff54c6ea8a2a159d3fa5ad4"
      }
     },
     "1ba50d1c952c4de688f582b05fcda71d": {
      "model_module": "@jupyter-widgets/controls",
      "model_module_version": "1.5.0",
      "model_name": "DatePickerModel",
      "state": {
       "description": "Pick a Date",
       "disabled": false,
       "layout": "IPY_MODEL_8fb1635f1b584e1b8a0f3103f77b8a60",
       "style": "IPY_MODEL_0598d1a15c5a46e492ddeb2259829134"
      }
     },
     "1cec0c62a36446c6bee243d2966063e4": {
      "model_module": "@jupyter-widgets/controls",
      "model_module_version": "1.5.0",
      "model_name": "DescriptionStyleModel",
      "state": {
       "description_width": ""
      }
     },
     "23ed1cd1a1c24de99a9a620accd51cb0": {
      "model_module": "@jupyter-widgets/controls",
      "model_module_version": "1.5.0",
      "model_name": "DatePickerModel",
      "state": {
       "description": "Pick a Date",
       "disabled": false,
       "layout": "IPY_MODEL_732f6029313d4101ae68f9be70def82b",
       "style": "IPY_MODEL_78e75b7905cc46c0a4e3f8ee6e8b53d2"
      }
     },
     "28f6abd98b7b4478a3531231c8a03f5b": {
      "model_module": "@jupyter-widgets/base",
      "model_module_version": "1.2.0",
      "model_name": "LayoutModel",
      "state": {}
     },
     "34000cb7f36948979521fb877f1468c2": {
      "model_module": "@jupyter-widgets/controls",
      "model_module_version": "1.5.0",
      "model_name": "DescriptionStyleModel",
      "state": {
       "description_width": ""
      }
     },
     "56dc4f37be594ad6af33b5a31cd7f862": {
      "model_module": "@jupyter-widgets/base",
      "model_module_version": "1.2.0",
      "model_name": "LayoutModel",
      "state": {}
     },
     "6085175c00524dfd83344b0c7736d098": {
      "model_module": "@jupyter-widgets/controls",
      "model_module_version": "1.5.0",
      "model_name": "DescriptionStyleModel",
      "state": {
       "description_width": ""
      }
     },
     "68045b0e589d47b696b3996eb810a9fd": {
      "model_module": "@jupyter-widgets/controls",
      "model_module_version": "1.5.0",
      "model_name": "DatePickerModel",
      "state": {
       "description": "Pick a Date",
       "disabled": false,
       "layout": "IPY_MODEL_d41fcee5da5d4308bb9799f18ca05e79",
       "style": "IPY_MODEL_faf52dbd33dd44fdb58e48f8bd0576fa"
      }
     },
     "6b68c122ff0445689bde680f40df186e": {
      "model_module": "@jupyter-widgets/controls",
      "model_module_version": "1.5.0",
      "model_name": "DatePickerModel",
      "state": {
       "description": "Data do Caixa",
       "disabled": false,
       "layout": "IPY_MODEL_94388e59c6524da4954b7245ed1d2c0e",
       "style": "IPY_MODEL_a619624b09c2407f88d15e2f755c1ca3"
      }
     },
     "732f6029313d4101ae68f9be70def82b": {
      "model_module": "@jupyter-widgets/base",
      "model_module_version": "1.2.0",
      "model_name": "LayoutModel",
      "state": {}
     },
     "78e75b7905cc46c0a4e3f8ee6e8b53d2": {
      "model_module": "@jupyter-widgets/controls",
      "model_module_version": "1.5.0",
      "model_name": "DescriptionStyleModel",
      "state": {
       "description_width": ""
      }
     },
     "841571344db14028bd8f2e126d4cf02a": {
      "model_module": "@jupyter-widgets/controls",
      "model_module_version": "1.5.0",
      "model_name": "DatePickerModel",
      "state": {
       "description": "Pick a Date",
       "disabled": false,
       "layout": "IPY_MODEL_c4dd327e09ab48c3ad46d4e6cd1b8df7",
       "style": "IPY_MODEL_9c25010e2a4e4b41a5227758bc974390"
      }
     },
     "86dad77f464240d9899c90974a4e5621": {
      "model_module": "@jupyter-widgets/controls",
      "model_module_version": "1.5.0",
      "model_name": "DatePickerModel",
      "state": {
       "description": "Data do Caixa",
       "disabled": false,
       "layout": "IPY_MODEL_f337fee236f14991b903e63e1d911c98",
       "style": "IPY_MODEL_6085175c00524dfd83344b0c7736d098"
      }
     },
     "87b9a92b42fb427ba3eced6bb1f2f37d": {
      "model_module": "@jupyter-widgets/base",
      "model_module_version": "1.2.0",
      "model_name": "LayoutModel",
      "state": {}
     },
     "8910a69f48484784aa41de06a98f08ec": {
      "model_module": "@jupyter-widgets/controls",
      "model_module_version": "1.5.0",
      "model_name": "DatePickerModel",
      "state": {
       "description": "Data do Caixa",
       "disabled": false,
       "layout": "IPY_MODEL_d7d585ce8d104b50934d8f2fe3a2739d",
       "style": "IPY_MODEL_1cec0c62a36446c6bee243d2966063e4"
      }
     },
     "895d7201d81847e9a45dafd05d212008": {
      "model_module": "@jupyter-widgets/base",
      "model_module_version": "1.2.0",
      "model_name": "LayoutModel",
      "state": {}
     },
     "8bc3fba2a2864c1d8754eb33f2b75ed5": {
      "model_module": "@jupyter-widgets/base",
      "model_module_version": "1.2.0",
      "model_name": "LayoutModel",
      "state": {}
     },
     "8ef42034d9084ef58e00ea6e8ffe5b39": {
      "model_module": "@jupyter-widgets/controls",
      "model_module_version": "1.5.0",
      "model_name": "TextModel",
      "state": {
       "layout": "IPY_MODEL_d7d826cc474148dfba4b1f064870f0d4",
       "placeholder": "Type Contract Name",
       "style": "IPY_MODEL_a20faf026dbe4cdfb6d7a125d4dc0bb3"
      }
     },
     "8fb1635f1b584e1b8a0f3103f77b8a60": {
      "model_module": "@jupyter-widgets/base",
      "model_module_version": "1.2.0",
      "model_name": "LayoutModel",
      "state": {}
     },
     "94388e59c6524da4954b7245ed1d2c0e": {
      "model_module": "@jupyter-widgets/base",
      "model_module_version": "1.2.0",
      "model_name": "LayoutModel",
      "state": {}
     },
     "9c25010e2a4e4b41a5227758bc974390": {
      "model_module": "@jupyter-widgets/controls",
      "model_module_version": "1.5.0",
      "model_name": "DescriptionStyleModel",
      "state": {
       "description_width": ""
      }
     },
     "a20faf026dbe4cdfb6d7a125d4dc0bb3": {
      "model_module": "@jupyter-widgets/controls",
      "model_module_version": "1.5.0",
      "model_name": "DescriptionStyleModel",
      "state": {
       "description_width": ""
      }
     },
     "a2e76eef303b46e4bf71c63f829725ee": {
      "model_module": "@jupyter-widgets/controls",
      "model_module_version": "1.5.0",
      "model_name": "DescriptionStyleModel",
      "state": {
       "description_width": ""
      }
     },
     "a5ed37876eb445cc934935399982e9d5": {
      "model_module": "@jupyter-widgets/controls",
      "model_module_version": "1.5.0",
      "model_name": "DatePickerModel",
      "state": {
       "description": "Pick a Date",
       "disabled": false,
       "layout": "IPY_MODEL_28f6abd98b7b4478a3531231c8a03f5b",
       "style": "IPY_MODEL_d3ff1e0939904eedb7425346e6daca15"
      }
     },
     "a619624b09c2407f88d15e2f755c1ca3": {
      "model_module": "@jupyter-widgets/controls",
      "model_module_version": "1.5.0",
      "model_name": "DescriptionStyleModel",
      "state": {
       "description_width": ""
      }
     },
     "ac7f8aa0037e454e99a2ab84022d6e7a": {
      "model_module": "@jupyter-widgets/controls",
      "model_module_version": "1.5.0",
      "model_name": "DatePickerModel",
      "state": {
       "description": "Data do Caixa",
       "disabled": false,
       "layout": "IPY_MODEL_56dc4f37be594ad6af33b5a31cd7f862",
       "style": "IPY_MODEL_a2e76eef303b46e4bf71c63f829725ee",
       "value": {
        "date": 24,
        "month": 7,
        "year": 2022
       }
      }
     },
     "afe9d19dae21430ba072f4089abb95bd": {
      "model_module": "@jupyter-widgets/controls",
      "model_module_version": "1.5.0",
      "model_name": "DescriptionStyleModel",
      "state": {
       "description_width": ""
      }
     },
     "c4dd327e09ab48c3ad46d4e6cd1b8df7": {
      "model_module": "@jupyter-widgets/base",
      "model_module_version": "1.2.0",
      "model_name": "LayoutModel",
      "state": {}
     },
     "c776e13671a848c4bf98582e233c40a0": {
      "model_module": "@jupyter-widgets/controls",
      "model_module_version": "1.5.0",
      "model_name": "DatePickerModel",
      "state": {
       "description": "Pick a Date",
       "disabled": false,
       "layout": "IPY_MODEL_895d7201d81847e9a45dafd05d212008",
       "style": "IPY_MODEL_fc95cf128a3c490da1046ec827a9bb6d",
       "value": {
        "date": 24,
        "month": 7,
        "year": 2022
       }
      }
     },
     "d3ff1e0939904eedb7425346e6daca15": {
      "model_module": "@jupyter-widgets/controls",
      "model_module_version": "1.5.0",
      "model_name": "DescriptionStyleModel",
      "state": {
       "description_width": ""
      }
     },
     "d41fcee5da5d4308bb9799f18ca05e79": {
      "model_module": "@jupyter-widgets/base",
      "model_module_version": "1.2.0",
      "model_name": "LayoutModel",
      "state": {}
     },
     "d5dad52385ad4a799fb0ef86786c4bac": {
      "model_module": "@jupyter-widgets/base",
      "model_module_version": "1.2.0",
      "model_name": "LayoutModel",
      "state": {}
     },
     "d7d585ce8d104b50934d8f2fe3a2739d": {
      "model_module": "@jupyter-widgets/base",
      "model_module_version": "1.2.0",
      "model_name": "LayoutModel",
      "state": {}
     },
     "d7d826cc474148dfba4b1f064870f0d4": {
      "model_module": "@jupyter-widgets/base",
      "model_module_version": "1.2.0",
      "model_name": "LayoutModel",
      "state": {}
     },
     "e074ae9d859d4fa39ad3c0333aa03bfd": {
      "model_module": "@jupyter-widgets/controls",
      "model_module_version": "1.5.0",
      "model_name": "DatePickerModel",
      "state": {
       "description": "Pick a Date",
       "disabled": false,
       "layout": "IPY_MODEL_d5dad52385ad4a799fb0ef86786c4bac",
       "style": "IPY_MODEL_afe9d19dae21430ba072f4089abb95bd"
      }
     },
     "e966dd7a17664f949776e201b8b26358": {
      "model_module": "@jupyter-widgets/controls",
      "model_module_version": "1.5.0",
      "model_name": "DatePickerModel",
      "state": {
       "description": "Data do Caixa",
       "disabled": false,
       "layout": "IPY_MODEL_87b9a92b42fb427ba3eced6bb1f2f37d",
       "style": "IPY_MODEL_34000cb7f36948979521fb877f1468c2"
      }
     },
     "f337fee236f14991b903e63e1d911c98": {
      "model_module": "@jupyter-widgets/base",
      "model_module_version": "1.2.0",
      "model_name": "LayoutModel",
      "state": {}
     },
     "faf52dbd33dd44fdb58e48f8bd0576fa": {
      "model_module": "@jupyter-widgets/controls",
      "model_module_version": "1.5.0",
      "model_name": "DescriptionStyleModel",
      "state": {
       "description_width": ""
      }
     },
     "fc95cf128a3c490da1046ec827a9bb6d": {
      "model_module": "@jupyter-widgets/controls",
      "model_module_version": "1.5.0",
      "model_name": "DescriptionStyleModel",
      "state": {
       "description_width": ""
      }
     }
    },
    "version_major": 2,
    "version_minor": 0
   }
  }
 },
 "nbformat": 4,
 "nbformat_minor": 5
}
